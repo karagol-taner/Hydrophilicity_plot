{
  "nbformat": 4,
  "nbformat_minor": 0,
  "metadata": {
    "colab": {
      "provenance": [],
      "authorship_tag": "ABX9TyOsN08G7J+1NQi87buztTvY",
      "include_colab_link": true
    },
    "kernelspec": {
      "name": "python3",
      "display_name": "Python 3"
    },
    "language_info": {
      "name": "python"
    }
  },
  "cells": [
    {
      "cell_type": "markdown",
      "metadata": {
        "id": "view-in-github",
        "colab_type": "text"
      },
      "source": [
        "<a href=\"https://colab.research.google.com/github/karagol-taner/Hydrophilicity_plot/blob/main/Hydrophilicity_plot.ipynb\" target=\"_parent\"><img src=\"https://colab.research.google.com/assets/colab-badge.svg\" alt=\"Open In Colab\"/></a>"
      ]
    },
    {
      "cell_type": "markdown",
      "source": [
        "# Hydrophilicity plot (Kyte-Doolittle Analysis)\n",
        "This Google Colab notebook serves as a platform for executing the Python script designed to generate hydrophilicity (Kyte-Doolittle) plots from single/multiple protein sequences provided in FASTA format. It directly integrates with the corresponding [Hydrophilicity plot (Kyte-Doolittle Analysis)](https://github.com/karagol-taner/Hydrophilicity_plot), providing a seamless environment for conversion tasks.\n",
        "\n",
        "If you find this tool useful, please cite:\n",
        "\n",
        "\n",
        "\n",
        "*   Karagol, A., & Karagol, T. (2024). An Evolutionary Statistics Toolkit for Simplified Sequence Analysis on Web with Client-Side Processing. bioRxiv, 2024-08. doi: https://doi.org/10.1101/2024.08.01.606148\n",
        "\n",
        "and\n",
        "\n",
        "*   Kyte, J; Doolittle, R. F. (1982). \"A simple method for displaying the hydropathic character of a protein\". Journal of Molecular Biology. 157 (1): 105–32."
      ],
      "metadata": {
        "id": "LSG_tPBKplC7"
      }
    },
    {
      "cell_type": "code",
      "source": [
        "#@markdown Install hydrophilicity-plot\n",
        "!pip install hydrophilicity-plot"
      ],
      "metadata": {
        "id": "eHpPMk3voY2J",
        "cellView": "form"
      },
      "execution_count": null,
      "outputs": []
    },
    {
      "cell_type": "code",
      "source": [
        "#@markdown Run the Program\n",
        "!hydrophilicity_plot"
      ],
      "metadata": {
        "cellView": "form",
        "id": "JwReJD6QEaE2"
      },
      "execution_count": null,
      "outputs": []
    }
  ]
}